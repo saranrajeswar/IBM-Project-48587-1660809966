{
 "cells": [
  {
   "cell_type": "code",
   "execution_count": 40,
   "id": "db1053b1",
   "metadata": {},
   "outputs": [],
   "source": [
    "##import libraries\n",
    "import pandas as pd\n",
    "import numpy as np\n",
    "import matplotlib as plt\n",
    "from sklearn.preprocessing  import LabelEncoder\n",
    "import pickle\n",
    "import seaborn as sns"
   ]
  },
  {
   "cell_type": "code",
   "execution_count": 68,
   "id": "659478bc",
   "metadata": {},
   "outputs": [],
   "source": [
    "car=pd.read_csv(r\"C:\\Users\\narma\\OneDrive\\Desktop\\Project\\autos.csv\",header=0,sep=',',encoding='Latin1',)\n"
   ]
  },
  {
   "cell_type": "code",
   "execution_count": 70,
   "id": "5325d8a9",
   "metadata": {},
   "outputs": [
    {
     "data": {
      "text/html": [
       "<div>\n",
       "<style scoped>\n",
       "    .dataframe tbody tr th:only-of-type {\n",
       "        vertical-align: middle;\n",
       "    }\n",
       "\n",
       "    .dataframe tbody tr th {\n",
       "        vertical-align: top;\n",
       "    }\n",
       "\n",
       "    .dataframe thead th {\n",
       "        text-align: right;\n",
       "    }\n",
       "</style>\n",
       "<table border=\"1\" class=\"dataframe\">\n",
       "  <thead>\n",
       "    <tr style=\"text-align: right;\">\n",
       "      <th></th>\n",
       "      <th>Unnamed: 0</th>\n",
       "      <th>car_name</th>\n",
       "      <th>brand</th>\n",
       "      <th>model</th>\n",
       "      <th>min_cost_price</th>\n",
       "      <th>max_cost_price</th>\n",
       "      <th>vehicle_age</th>\n",
       "      <th>km_driven</th>\n",
       "      <th>seller_type</th>\n",
       "      <th>fuel_type</th>\n",
       "      <th>transmission_type</th>\n",
       "      <th>mileage</th>\n",
       "      <th>engine</th>\n",
       "      <th>max_power</th>\n",
       "      <th>seats</th>\n",
       "      <th>Owner_type</th>\n",
       "      <th>selling_price</th>\n",
       "    </tr>\n",
       "  </thead>\n",
       "  <tbody>\n",
       "    <tr>\n",
       "      <th>7891</th>\n",
       "      <td>10115</td>\n",
       "      <td>Renault KWID</td>\n",
       "      <td>Renault</td>\n",
       "      <td>KWID</td>\n",
       "      <td>357000.0</td>\n",
       "      <td>606000.0</td>\n",
       "      <td>5</td>\n",
       "      <td>15000</td>\n",
       "      <td>Individual</td>\n",
       "      <td>Petrol</td>\n",
       "      <td>Manual</td>\n",
       "      <td>23.01</td>\n",
       "      <td>999</td>\n",
       "      <td>67.0</td>\n",
       "      <td>5</td>\n",
       "      <td>1</td>\n",
       "      <td>300000</td>\n",
       "    </tr>\n",
       "  </tbody>\n",
       "</table>\n",
       "</div>"
      ],
      "text/plain": [
       "      Unnamed: 0      car_name    brand model  min_cost_price  max_cost_price  \\\n",
       "7891       10115  Renault KWID  Renault  KWID        357000.0        606000.0   \n",
       "\n",
       "      vehicle_age  km_driven seller_type fuel_type transmission_type  mileage  \\\n",
       "7891            5      15000  Individual    Petrol            Manual    23.01   \n",
       "\n",
       "      engine  max_power  seats  Owner_type  selling_price  \n",
       "7891     999       67.0      5           1         300000  "
      ]
     },
     "execution_count": 70,
     "metadata": {},
     "output_type": "execute_result"
    }
   ],
   "source": [
    "car.sample()"
   ]
  },
  {
   "cell_type": "code",
   "execution_count": 71,
   "id": "ebe4423f",
   "metadata": {},
   "outputs": [
    {
     "name": "stdout",
     "output_type": "stream",
     "text": [
      "<class 'pandas.core.frame.DataFrame'>\n",
      "RangeIndex: 15411 entries, 0 to 15410\n",
      "Data columns (total 17 columns):\n",
      " #   Column             Non-Null Count  Dtype  \n",
      "---  ------             --------------  -----  \n",
      " 0   Unnamed: 0         15411 non-null  int64  \n",
      " 1   car_name           15411 non-null  object \n",
      " 2   brand              15411 non-null  object \n",
      " 3   model              15411 non-null  object \n",
      " 4   min_cost_price     15411 non-null  float64\n",
      " 5   max_cost_price     15411 non-null  float64\n",
      " 6   vehicle_age        15411 non-null  int64  \n",
      " 7   km_driven          15411 non-null  int64  \n",
      " 8   seller_type        15411 non-null  object \n",
      " 9   fuel_type          15411 non-null  object \n",
      " 10  transmission_type  15411 non-null  object \n",
      " 11  mileage            15411 non-null  float64\n",
      " 12  engine             15411 non-null  int64  \n",
      " 13  max_power          15411 non-null  float64\n",
      " 14  seats              15411 non-null  int64  \n",
      " 15  Owner_type         15411 non-null  int64  \n",
      " 16  selling_price      15411 non-null  int64  \n",
      "dtypes: float64(4), int64(7), object(6)\n",
      "memory usage: 2.0+ MB\n"
     ]
    }
   ],
   "source": [
    "car.info()"
   ]
  },
  {
   "cell_type": "code",
   "execution_count": 72,
   "id": "132208c3",
   "metadata": {},
   "outputs": [
    {
     "data": {
      "text/html": [
       "<div>\n",
       "<style scoped>\n",
       "    .dataframe tbody tr th:only-of-type {\n",
       "        vertical-align: middle;\n",
       "    }\n",
       "\n",
       "    .dataframe tbody tr th {\n",
       "        vertical-align: top;\n",
       "    }\n",
       "\n",
       "    .dataframe thead th {\n",
       "        text-align: right;\n",
       "    }\n",
       "</style>\n",
       "<table border=\"1\" class=\"dataframe\">\n",
       "  <thead>\n",
       "    <tr style=\"text-align: right;\">\n",
       "      <th></th>\n",
       "      <th>brand</th>\n",
       "      <th>model</th>\n",
       "      <th>vehicle_age</th>\n",
       "      <th>km_driven</th>\n",
       "      <th>fuel_type</th>\n",
       "      <th>transmission_type</th>\n",
       "      <th>mileage</th>\n",
       "      <th>engine</th>\n",
       "      <th>max_power</th>\n",
       "      <th>seats</th>\n",
       "      <th>Owner_type</th>\n",
       "      <th>selling_price</th>\n",
       "    </tr>\n",
       "  </thead>\n",
       "  <tbody>\n",
       "    <tr>\n",
       "      <th>2865</th>\n",
       "      <td>Maruti</td>\n",
       "      <td>Ertiga</td>\n",
       "      <td>5</td>\n",
       "      <td>72000</td>\n",
       "      <td>Diesel</td>\n",
       "      <td>Manual</td>\n",
       "      <td>24.52</td>\n",
       "      <td>1248</td>\n",
       "      <td>88.5</td>\n",
       "      <td>7</td>\n",
       "      <td>2</td>\n",
       "      <td>840000</td>\n",
       "    </tr>\n",
       "  </tbody>\n",
       "</table>\n",
       "</div>"
      ],
      "text/plain": [
       "       brand   model  vehicle_age  km_driven fuel_type transmission_type  \\\n",
       "2865  Maruti  Ertiga            5      72000    Diesel            Manual   \n",
       "\n",
       "      mileage  engine  max_power  seats  Owner_type  selling_price  \n",
       "2865    24.52    1248       88.5      7           2         840000  "
      ]
     },
     "execution_count": 72,
     "metadata": {},
     "output_type": "execute_result"
    }
   ],
   "source": [
    "##remove unwanted columns\n",
    "car.drop(['Unnamed: 0','car_name','min_cost_price','max_cost_price','seller_type'],axis='columns',inplace=True)\n",
    "car.sample()"
   ]
  },
  {
   "cell_type": "code",
   "execution_count": 73,
   "id": "547ea130",
   "metadata": {},
   "outputs": [],
   "source": [
    "car1=car.copy()\n",
    "car1=car1.drop_duplicates(['brand','model','vehicle_age','km_driven','fuel_type','transmission_type','mileage','engine','max_power','seats','Owner_type','selling_price'])"
   ]
  },
  {
   "cell_type": "code",
   "execution_count": 74,
   "id": "63464386",
   "metadata": {},
   "outputs": [
    {
     "data": {
      "text/plain": [
       "(15331, 12)"
      ]
     },
     "execution_count": 74,
     "metadata": {},
     "output_type": "execute_result"
    }
   ],
   "source": [
    "car1.shape"
   ]
  },
  {
   "cell_type": "code",
   "execution_count": 75,
   "id": "41b9c90e",
   "metadata": {
    "scrolled": true
   },
   "outputs": [
    {
     "data": {
      "text/plain": [
       "<AxesSubplot:xlabel='km_driven', ylabel='Count'>"
      ]
     },
     "execution_count": 75,
     "metadata": {},
     "output_type": "execute_result"
    },
    {
     "data": {
      "image/png": "[encoded data removed]",
      "text/plain": [
       "<Figure size 432x288 with 1 Axes>"
      ]
     },
     "metadata": {
      "needs_background": "light"
     },
     "output_type": "display_data"
    }
   ],
   "source": [
    "sns.histplot(data=car1,x='km_driven')"
   ]
  },
  {
   "cell_type": "code",
   "execution_count": 76,
   "id": "d55a0add",
   "metadata": {},
   "outputs": [],
   "source": [
    "#remove outliears\n",
    "cols= ['km_driven' , 'mileage' , 'engine' , 'max_power','selling_price']"
   ]
  },
  {
   "cell_type": "code",
   "execution_count": 77,
   "id": "1d9ceaa8",
   "metadata": {},
   "outputs": [],
   "source": [
    "car2 = car1.copy()\n",
    "from datasist.structdata import detect_outliers \n",
    "\n",
    "outliears = detect_outliers(car2[cols],0,car2[cols].columns)\n",
    "car2.drop(outliears,inplace=True)\n"
   ]
  },
  {
   "cell_type": "code",
   "execution_count": 78,
   "id": "a74058fb",
   "metadata": {},
   "outputs": [
    {
     "data": {
      "text/html": [
       "<div>\n",
       "<style scoped>\n",
       "    .dataframe tbody tr th:only-of-type {\n",
       "        vertical-align: middle;\n",
       "    }\n",
       "\n",
       "    .dataframe tbody tr th {\n",
       "        vertical-align: top;\n",
       "    }\n",
       "\n",
       "    .dataframe thead th {\n",
       "        text-align: right;\n",
       "    }\n",
       "</style>\n",
       "<table border=\"1\" class=\"dataframe\">\n",
       "  <thead>\n",
       "    <tr style=\"text-align: right;\">\n",
       "      <th></th>\n",
       "      <th>brand</th>\n",
       "      <th>model</th>\n",
       "      <th>vehicle_age</th>\n",
       "      <th>km_driven</th>\n",
       "      <th>fuel_type</th>\n",
       "      <th>transmission_type</th>\n",
       "      <th>mileage</th>\n",
       "      <th>engine</th>\n",
       "      <th>max_power</th>\n",
       "      <th>seats</th>\n",
       "      <th>Owner_type</th>\n",
       "      <th>selling_price</th>\n",
       "    </tr>\n",
       "  </thead>\n",
       "  <tbody>\n",
       "    <tr>\n",
       "      <th>6696</th>\n",
       "      <td>Skoda</td>\n",
       "      <td>Octavia</td>\n",
       "      <td>14</td>\n",
       "      <td>110000</td>\n",
       "      <td>Diesel</td>\n",
       "      <td>Manual</td>\n",
       "      <td>18.7</td>\n",
       "      <td>1896</td>\n",
       "      <td>66.0</td>\n",
       "      <td>5</td>\n",
       "      <td>1</td>\n",
       "      <td>295000</td>\n",
       "    </tr>\n",
       "  </tbody>\n",
       "</table>\n",
       "</div>"
      ],
      "text/plain": [
       "      brand    model  vehicle_age  km_driven fuel_type transmission_type  \\\n",
       "6696  Skoda  Octavia           14     110000    Diesel            Manual   \n",
       "\n",
       "      mileage  engine  max_power  seats  Owner_type  selling_price  \n",
       "6696     18.7    1896       66.0      5           1         295000  "
      ]
     },
     "execution_count": 78,
     "metadata": {},
     "output_type": "execute_result"
    }
   ],
   "source": [
    "car2.shape\n",
    "car2.sample()"
   ]
  },
  {
   "cell_type": "code",
   "execution_count": 79,
   "id": "a1bcc8aa",
   "metadata": {},
   "outputs": [],
   "source": [
    "##saving cleaned datadet\n",
    "car2.to_csv(\"autos_preprocessed.csv\")"
   ]
  },
  {
   "cell_type": "code",
   "execution_count": 80,
   "id": "f1f165a1",
   "metadata": {},
   "outputs": [
    {
     "data": {
      "text/plain": [
       "array(['Petrol', 'Diesel', 'CNG', 'LPG'], dtype=object)"
      ]
     },
     "execution_count": 80,
     "metadata": {},
     "output_type": "execute_result"
    }
   ],
   "source": [
    "car2['fuel_type'].unique()"
   ]
  },
  {
   "cell_type": "code",
   "execution_count": 81,
   "id": "1a71a989",
   "metadata": {},
   "outputs": [
    {
     "name": "stdout",
     "output_type": "stream",
     "text": [
      "brand : LabelEncoder()\n",
      "model : LabelEncoder()\n",
      "fuel_type : LabelEncoder()\n",
      "transmission_type : LabelEncoder()\n",
      "Index(['selling_price', 'vehicle_age', 'km_driven', 'mileage', 'engine',\n",
      "       'max_power', 'seats', 'Owner_type', 'brand_labels', 'model_labels',\n",
      "       'fuel_type_labels', 'transmission_type_labels'],\n",
      "      dtype='object')\n"
     ]
    }
   ],
   "source": [
    "##convert categorical columns into label encoding\n",
    "labels=['brand','model','fuel_type','transmission_type']\n",
    "mapper={}\n",
    "for i in labels:\n",
    "    mapper[i]=LabelEncoder()\n",
    "    mapper[i].fit(car2[i])\n",
    "    tr=mapper[i].transform(car2[i])\n",
    "    np.save(str('classes'+i+'.npy'),mapper[i].classes_)\n",
    "    print(i,\":\",mapper[i])\n",
    "    car2.loc[:,i + '_labels']=pd.Series(tr,index=car2.index)\n",
    "labeled=car2[['selling_price','vehicle_age','km_driven','mileage','engine','max_power','seats','Owner_type']+[x+\"_labels\" for x in labels]]\n",
    "print(labeled.columns)\n",
    "    \n"
   ]
  },
  {
   "cell_type": "code",
   "execution_count": 82,
   "id": "a1d2d849",
   "metadata": {},
   "outputs": [
    {
     "name": "stdout",
     "output_type": "stream",
     "text": [
      "<class 'pandas.core.frame.DataFrame'>\n",
      "Int64Index: 12186 entries, 0 to 15410\n",
      "Data columns (total 12 columns):\n",
      " #   Column                    Non-Null Count  Dtype  \n",
      "---  ------                    --------------  -----  \n",
      " 0   selling_price             12186 non-null  int64  \n",
      " 1   vehicle_age               12186 non-null  int64  \n",
      " 2   km_driven                 12186 non-null  int64  \n",
      " 3   mileage                   12186 non-null  float64\n",
      " 4   engine                    12186 non-null  int64  \n",
      " 5   max_power                 12186 non-null  float64\n",
      " 6   seats                     12186 non-null  int64  \n",
      " 7   Owner_type                12186 non-null  int64  \n",
      " 8   brand_labels              12186 non-null  int32  \n",
      " 9   model_labels              12186 non-null  int32  \n",
      " 10  fuel_type_labels          12186 non-null  int32  \n",
      " 11  transmission_type_labels  12186 non-null  int32  \n",
      "dtypes: float64(2), int32(4), int64(6)\n",
      "memory usage: 1.0 MB\n"
     ]
    }
   ],
   "source": [
    "labeled.info()"
   ]
  },
  {
   "cell_type": "code",
   "execution_count": 83,
   "id": "6ba788b2",
   "metadata": {},
   "outputs": [
    {
     "data": {
      "text/html": [
       "<div>\n",
       "<style scoped>\n",
       "    .dataframe tbody tr th:only-of-type {\n",
       "        vertical-align: middle;\n",
       "    }\n",
       "\n",
       "    .dataframe tbody tr th {\n",
       "        vertical-align: top;\n",
       "    }\n",
       "\n",
       "    .dataframe thead th {\n",
       "        text-align: right;\n",
       "    }\n",
       "</style>\n",
       "<table border=\"1\" class=\"dataframe\">\n",
       "  <thead>\n",
       "    <tr style=\"text-align: right;\">\n",
       "      <th></th>\n",
       "      <th>selling_price</th>\n",
       "      <th>vehicle_age</th>\n",
       "      <th>km_driven</th>\n",
       "      <th>mileage</th>\n",
       "      <th>engine</th>\n",
       "      <th>max_power</th>\n",
       "      <th>seats</th>\n",
       "      <th>Owner_type</th>\n",
       "      <th>brand_labels</th>\n",
       "      <th>model_labels</th>\n",
       "      <th>fuel_type_labels</th>\n",
       "      <th>transmission_type_labels</th>\n",
       "    </tr>\n",
       "  </thead>\n",
       "  <tbody>\n",
       "    <tr>\n",
       "      <th>8074</th>\n",
       "      <td>500000</td>\n",
       "      <td>6</td>\n",
       "      <td>95945</td>\n",
       "      <td>15.63</td>\n",
       "      <td>1499</td>\n",
       "      <td>110.4</td>\n",
       "      <td>5</td>\n",
       "      <td>3</td>\n",
       "      <td>3</td>\n",
       "      <td>25</td>\n",
       "      <td>3</td>\n",
       "      <td>0</td>\n",
       "    </tr>\n",
       "  </tbody>\n",
       "</table>\n",
       "</div>"
      ],
      "text/plain": [
       "      selling_price  vehicle_age  km_driven  mileage  engine  max_power  \\\n",
       "8074         500000            6      95945    15.63    1499      110.4   \n",
       "\n",
       "      seats  Owner_type  brand_labels  model_labels  fuel_type_labels  \\\n",
       "8074      5           3             3            25                 3   \n",
       "\n",
       "      transmission_type_labels  \n",
       "8074                         0  "
      ]
     },
     "execution_count": 83,
     "metadata": {},
     "output_type": "execute_result"
    }
   ],
   "source": [
    "labeled.sample()"
   ]
  },
  {
   "cell_type": "code",
   "execution_count": 84,
   "id": "89ccb804",
   "metadata": {},
   "outputs": [
    {
     "name": "stdout",
     "output_type": "stream",
     "text": [
      "<class 'pandas.core.frame.DataFrame'>\n",
      "Int64Index: 12186 entries, 0 to 15410\n",
      "Data columns (total 12 columns):\n",
      " #   Column                    Non-Null Count  Dtype  \n",
      "---  ------                    --------------  -----  \n",
      " 0   selling_price             12186 non-null  int64  \n",
      " 1   vehicle_age               12186 non-null  int64  \n",
      " 2   km_driven                 12186 non-null  int64  \n",
      " 3   mileage                   12186 non-null  float64\n",
      " 4   engine                    12186 non-null  int64  \n",
      " 5   max_power                 12186 non-null  float64\n",
      " 6   seats                     12186 non-null  int64  \n",
      " 7   Owner_type                12186 non-null  int64  \n",
      " 8   brand_labels              12186 non-null  int32  \n",
      " 9   model_labels              12186 non-null  int32  \n",
      " 10  fuel_type_labels          12186 non-null  int32  \n",
      " 11  transmission_type_labels  12186 non-null  int32  \n",
      "dtypes: float64(2), int32(4), int64(6)\n",
      "memory usage: 1.0 MB\n"
     ]
    }
   ],
   "source": [
    "labeled.info()"
   ]
  },
  {
   "cell_type": "code",
   "execution_count": 85,
   "id": "3f8a1cc8",
   "metadata": {},
   "outputs": [
    {
     "data": {
      "text/plain": [
       "selling_price               False\n",
       "vehicle_age                 False\n",
       "km_driven                   False\n",
       "mileage                     False\n",
       "engine                      False\n",
       "max_power                   False\n",
       "seats                       False\n",
       "Owner_type                  False\n",
       "brand_labels                False\n",
       "model_labels                False\n",
       "fuel_type_labels            False\n",
       "transmission_type_labels    False\n",
       "dtype: bool"
      ]
     },
     "execution_count": 85,
     "metadata": {},
     "output_type": "execute_result"
    }
   ],
   "source": [
    "labeled.isnull().any()"
   ]
  },
  {
   "cell_type": "code",
   "execution_count": 104,
   "id": "d32c024e",
   "metadata": {},
   "outputs": [
    {
     "data": {
      "text/plain": [
       "array([ 4, 33, 73, 25, 64, 72, 60, 54, 61, 20, 14, 11,  9, 55, 59, 19, 15,\n",
       "       40,  6, 50, 10, 39, 35, 47, 51, 42,  7, 29, 62, 56, 45, 52, 13, 31,\n",
       "       12, 38, 37,  2, 57, 28, 26, 70, 46, 30, 53, 43, 69, 22, 63, 68, 58,\n",
       "        0, 27, 71, 48, 21,  8, 49,  1, 16, 41, 24, 44, 17, 74,  3, 32, 23,\n",
       "       36, 65, 34, 67, 66,  5, 18])"
      ]
     },
     "execution_count": 104,
     "metadata": {},
     "output_type": "execute_result"
    }
   ],
   "source": [
    "labeled['model_labels'].unique()"
   ]
  },
  {
   "cell_type": "code",
   "execution_count": 87,
   "id": "65f1af84",
   "metadata": {},
   "outputs": [],
   "source": [
    "##split the data set\n",
    "X=labeled.iloc[:,1:].values\n",
    "Y=labeled.iloc[:,0].values\n",
    "Y=Y.reshape(-1,1)"
   ]
  },
  {
   "cell_type": "code",
   "execution_count": 88,
   "id": "74db46ae",
   "metadata": {},
   "outputs": [
    {
     "data": {
      "text/plain": [
       "array([[False, False, False, ..., False, False, False],\n",
       "       [False, False, False, ..., False, False, False],\n",
       "       [False, False, False, ..., False, False, False],\n",
       "       ...,\n",
       "       [False, False, False, ..., False, False, False],\n",
       "       [False, False, False, ..., False, False, False],\n",
       "       [False, False, False, ..., False, False, False]])"
      ]
     },
     "execution_count": 88,
     "metadata": {},
     "output_type": "execute_result"
    }
   ],
   "source": [
    "np.isnan(X)"
   ]
  },
  {
   "cell_type": "code",
   "execution_count": 89,
   "id": "424f8d3a",
   "metadata": {},
   "outputs": [],
   "source": [
    "##train the dataset\n",
    "from sklearn.model_selection import cross_val_score,train_test_split\n"
   ]
  },
  {
   "cell_type": "code",
   "execution_count": 90,
   "id": "a72f098f",
   "metadata": {},
   "outputs": [
    {
     "name": "stdout",
     "output_type": "stream",
     "text": [
      "(9748, 11)\n",
      "(2438, 11)\n",
      "(9748, 1)\n",
      "(2438, 1)\n"
     ]
    }
   ],
   "source": [
    "X_train, X_test, Y_train, Y_test = train_test_split(X,Y, test_size=0.2, random_state=111)\n",
    "print (X_train.shape)\n",
    "print (X_test.shape)\n",
    "print (Y_train.shape)\n",
    "print (Y_test.shape)\n",
    "\n"
   ]
  },
  {
   "cell_type": "code",
   "execution_count": 91,
   "id": "488a9401",
   "metadata": {},
   "outputs": [
    {
     "name": "stderr",
     "output_type": "stream",
     "text": [
      "C:\\Users\\narma\\anaconda3\\lib\\site-packages\\sklearn\\utils\\validation.py:993: DataConversionWarning: A column-vector y was passed when a 1d array was expected. Please change the shape of y to (n_samples, ), for example using ravel().\n",
      "  y = column_or_1d(y, warn=True)\n"
     ]
    },
    {
     "data": {
      "text/plain": [
       "0.027595404185473942"
      ]
     },
     "execution_count": 91,
     "metadata": {},
     "output_type": "execute_result"
    }
   ],
   "source": [
    "#import support vector machine\n",
    "from sklearn.svm import SVC\n",
    "classifier = SVC(random_state = 0)\n",
    "classifier.fit(X_train, Y_train)\n",
    "classifier.score(X_train,Y_train)"
   ]
  },
  {
   "cell_type": "code",
   "execution_count": 92,
   "id": "7d0330c7",
   "metadata": {},
   "outputs": [
    {
     "data": {
      "text/plain": [
       "0.019688269073010665"
      ]
     },
     "execution_count": 92,
     "metadata": {},
     "output_type": "execute_result"
    }
   ],
   "source": [
    "classifier.score(X_test,Y_test)"
   ]
  },
  {
   "cell_type": "code",
   "execution_count": 93,
   "id": "f47dba3b",
   "metadata": {},
   "outputs": [
    {
     "data": {
      "text/plain": [
       "RandomForestRegressor()"
      ]
     },
     "execution_count": 93,
     "metadata": {},
     "output_type": "execute_result"
    }
   ],
   "source": [
    "##model building\n",
    "##random forest\n",
    "from sklearn.ensemble import RandomForestRegressor\n",
    "regressor=RandomForestRegressor()\n",
    "regressor.fit(X_train,np.ravel(Y_train,order='C'))\n"
   ]
  },
  {
   "cell_type": "code",
   "execution_count": 94,
   "id": "3b58d378",
   "metadata": {},
   "outputs": [
    {
     "data": {
      "text/plain": [
       "0.9818098058217938"
      ]
     },
     "execution_count": 94,
     "metadata": {},
     "output_type": "execute_result"
    }
   ],
   "source": [
    "regressor.score(X_train,Y_train)"
   ]
  },
  {
   "cell_type": "code",
   "execution_count": 95,
   "id": "05dd4d91",
   "metadata": {},
   "outputs": [
    {
     "data": {
      "text/plain": [
       "0.8835011582363256"
      ]
     },
     "execution_count": 95,
     "metadata": {},
     "output_type": "execute_result"
    }
   ],
   "source": [
    "regressor.score(X_test,Y_test)"
   ]
  },
  {
   "cell_type": "code",
   "execution_count": 27,
   "id": "dcc50b8e",
   "metadata": {},
   "outputs": [
    {
     "data": {
      "text/plain": [
       "LinearRegression()"
      ]
     },
     "execution_count": 27,
     "metadata": {},
     "output_type": "execute_result"
    }
   ],
   "source": [
    "#linear Regression\n",
    "from sklearn.linear_model import LinearRegression\n",
    "lr=LinearRegression()\n",
    "lr.fit(X_train,Y_train)"
   ]
  },
  {
   "cell_type": "code",
   "execution_count": 28,
   "id": "a7185089",
   "metadata": {},
   "outputs": [
    {
     "data": {
      "text/plain": [
       "0.7406358772484445"
      ]
     },
     "execution_count": 28,
     "metadata": {},
     "output_type": "execute_result"
    }
   ],
   "source": [
    "lr.score(X_train,Y_train)"
   ]
  },
  {
   "cell_type": "code",
   "execution_count": 29,
   "id": "073b7d85",
   "metadata": {},
   "outputs": [
    {
     "data": {
      "text/plain": [
       "0.7486364420198988"
      ]
     },
     "execution_count": 29,
     "metadata": {},
     "output_type": "execute_result"
    }
   ],
   "source": [
    "lr.score(X_test,Y_test)"
   ]
  },
  {
   "cell_type": "code",
   "execution_count": 96,
   "id": "72393a98",
   "metadata": {},
   "outputs": [
    {
     "data": {
      "text/plain": [
       "array([222820.        , 465945.83333333, 524820.        , ...,\n",
       "       695900.        , 211937.5       , 517500.        ])"
      ]
     },
     "execution_count": 96,
     "metadata": {},
     "output_type": "execute_result"
    }
   ],
   "source": [
    "pred_test=regressor.predict(X_test)\n",
    "pred_test"
   ]
  },
  {
   "cell_type": "code",
   "execution_count": 97,
   "id": "09661c7f",
   "metadata": {},
   "outputs": [
    {
     "data": {
      "text/plain": [
       "array([[280000],\n",
       "       [330000],\n",
       "       [591000],\n",
       "       ...,\n",
       "       [650000],\n",
       "       [200000],\n",
       "       [600000]], dtype=int64)"
      ]
     },
     "execution_count": 97,
     "metadata": {},
     "output_type": "execute_result"
    }
   ],
   "source": [
    "Y_test"
   ]
  },
  {
   "cell_type": "code",
   "execution_count": 98,
   "id": "89936e2c",
   "metadata": {},
   "outputs": [
    {
     "data": {
      "text/plain": [
       "0.8757021996196013"
      ]
     },
     "execution_count": 98,
     "metadata": {},
     "output_type": "execute_result"
    }
   ],
   "source": [
    "#evaluation metrics\n",
    "from sklearn.metrics import mean_squared_error,r2_score\n",
    "RMSE=r2_score(pred_test,Y_test)\n",
    "RMSE"
   ]
  },
  {
   "cell_type": "code",
   "execution_count": 99,
   "id": "454a4439",
   "metadata": {},
   "outputs": [
    {
     "name": "stdout",
     "output_type": "stream",
     "text": [
      "<class 'pandas.core.frame.DataFrame'>\n",
      "Int64Index: 12186 entries, 0 to 15410\n",
      "Data columns (total 12 columns):\n",
      " #   Column                    Non-Null Count  Dtype  \n",
      "---  ------                    --------------  -----  \n",
      " 0   selling_price             12186 non-null  int64  \n",
      " 1   vehicle_age               12186 non-null  int64  \n",
      " 2   km_driven                 12186 non-null  int64  \n",
      " 3   mileage                   12186 non-null  float64\n",
      " 4   engine                    12186 non-null  int64  \n",
      " 5   max_power                 12186 non-null  float64\n",
      " 6   seats                     12186 non-null  int64  \n",
      " 7   Owner_type                12186 non-null  int64  \n",
      " 8   brand_labels              12186 non-null  int32  \n",
      " 9   model_labels              12186 non-null  int32  \n",
      " 10  fuel_type_labels          12186 non-null  int32  \n",
      " 11  transmission_type_labels  12186 non-null  int32  \n",
      "dtypes: float64(2), int32(4), int64(6)\n",
      "memory usage: 1.0 MB\n"
     ]
    }
   ],
   "source": [
    "labeled.info()\n"
   ]
  },
  {
   "cell_type": "code",
   "execution_count": 102,
   "id": "b94c2732",
   "metadata": {},
   "outputs": [],
   "source": [
    "#saving the model\n",
    "import pickle\n",
    "filename='resales.sav'\n",
    "pickle.dump(regressor,open(filename,\"wb\"))"
   ]
  },
  {
   "cell_type": "code",
   "execution_count": null,
   "id": "3507c7fc",
   "metadata": {},
   "outputs": [],
   "source": []
  }
 ],
 "metadata": {
  "kernelspec": {
   "display_name": "Python 3 (ipykernel)",
   "language": "python",
   "name": "python3"
  },
  "language_info": {
   "codemirror_mode": {
    "name": "ipython",
    "version": 3
   },
   "file_extension": ".py",
   "mimetype": "text/x-python",
   "name": "python",
   "nbconvert_exporter": "python",
   "pygments_lexer": "ipython3",
   "version": "3.9.12"
  }
 },
 "nbformat": 4,
 "nbformat_minor": 5
}
