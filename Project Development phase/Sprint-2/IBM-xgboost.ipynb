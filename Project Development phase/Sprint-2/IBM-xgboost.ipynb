{
 "cells": [
  {
   "cell_type": "code",
   "execution_count": 2,
   "id": "db1053b1",
   "metadata": {},
   "outputs": [],
   "source": [
    "##import libraries\n",
    "import pandas as pd\n",
    "import numpy as np\n",
    "import matplotlib as plt\n",
    "from sklearn.preprocessing  import LabelEncoder\n",
    "import pickle\n",
    "import seaborn as sns"
   ]
  },
  {
   "cell_type": "code",
   "execution_count": 3,
   "id": "659478bc",
   "metadata": {},
   "outputs": [],
   "source": [
    "car=pd.read_csv(r\"C:\\Users\\narma\\OneDrive\\Desktop\\Project\\autos.csv\",header=0,sep=',',encoding='Latin1',)\n"
   ]
  },
  {
   "cell_type": "code",
   "execution_count": 4,
   "id": "5325d8a9",
   "metadata": {},
   "outputs": [
    {
     "data": {
      "text/html": [
       "<div>\n",
       "<style scoped>\n",
       "    .dataframe tbody tr th:only-of-type {\n",
       "        vertical-align: middle;\n",
       "    }\n",
       "\n",
       "    .dataframe tbody tr th {\n",
       "        vertical-align: top;\n",
       "    }\n",
       "\n",
       "    .dataframe thead th {\n",
       "        text-align: right;\n",
       "    }\n",
       "</style>\n",
       "<table border=\"1\" class=\"dataframe\">\n",
       "  <thead>\n",
       "    <tr style=\"text-align: right;\">\n",
       "      <th></th>\n",
       "      <th>Unnamed: 0</th>\n",
       "      <th>car_name</th>\n",
       "      <th>brand</th>\n",
       "      <th>model</th>\n",
       "      <th>min_cost_price</th>\n",
       "      <th>max_cost_price</th>\n",
       "      <th>vehicle_age</th>\n",
       "      <th>km_driven</th>\n",
       "      <th>seller_type</th>\n",
       "      <th>fuel_type</th>\n",
       "      <th>transmission_type</th>\n",
       "      <th>mileage</th>\n",
       "      <th>engine</th>\n",
       "      <th>max_power</th>\n",
       "      <th>seats</th>\n",
       "      <th>Owner_type</th>\n",
       "      <th>selling_price</th>\n",
       "    </tr>\n",
       "  </thead>\n",
       "  <tbody>\n",
       "    <tr>\n",
       "      <th>4992</th>\n",
       "      <td>6333</td>\n",
       "      <td>Maruti Swift Dzire</td>\n",
       "      <td>Maruti</td>\n",
       "      <td>Swift Dzire</td>\n",
       "      <td>688000.0</td>\n",
       "      <td>1024000.0</td>\n",
       "      <td>3</td>\n",
       "      <td>18000</td>\n",
       "      <td>Dealer</td>\n",
       "      <td>Petrol</td>\n",
       "      <td>Automatic</td>\n",
       "      <td>21.21</td>\n",
       "      <td>1197</td>\n",
       "      <td>81.8</td>\n",
       "      <td>5</td>\n",
       "      <td>1</td>\n",
       "      <td>750000</td>\n",
       "    </tr>\n",
       "  </tbody>\n",
       "</table>\n",
       "</div>"
      ],
      "text/plain": [
       "      Unnamed: 0            car_name   brand        model  min_cost_price  \\\n",
       "4992        6333  Maruti Swift Dzire  Maruti  Swift Dzire        688000.0   \n",
       "\n",
       "      max_cost_price  vehicle_age  km_driven seller_type fuel_type  \\\n",
       "4992       1024000.0            3      18000      Dealer    Petrol   \n",
       "\n",
       "     transmission_type  mileage  engine  max_power  seats  Owner_type  \\\n",
       "4992         Automatic    21.21    1197       81.8      5           1   \n",
       "\n",
       "      selling_price  \n",
       "4992         750000  "
      ]
     },
     "execution_count": 4,
     "metadata": {},
     "output_type": "execute_result"
    }
   ],
   "source": [
    "car.sample()"
   ]
  },
  {
   "cell_type": "code",
   "execution_count": 26,
   "id": "ebe4423f",
   "metadata": {},
   "outputs": [
    {
     "name": "stdout",
     "output_type": "stream",
     "text": [
      "<class 'pandas.core.frame.DataFrame'>\n",
      "RangeIndex: 15411 entries, 0 to 15410\n",
      "Data columns (total 12 columns):\n",
      " #   Column             Non-Null Count  Dtype  \n",
      "---  ------             --------------  -----  \n",
      " 0   brand              15411 non-null  object \n",
      " 1   model              15411 non-null  object \n",
      " 2   vehicle_age        15411 non-null  int64  \n",
      " 3   km_driven          15411 non-null  int64  \n",
      " 4   fuel_type          15411 non-null  object \n",
      " 5   transmission_type  15411 non-null  object \n",
      " 6   mileage            15411 non-null  float64\n",
      " 7   engine             15411 non-null  int64  \n",
      " 8   max_power          15411 non-null  float64\n",
      " 9   seats              15411 non-null  int64  \n",
      " 10  Owner_type         15411 non-null  int64  \n",
      " 11  selling_price      15411 non-null  int64  \n",
      "dtypes: float64(2), int64(6), object(4)\n",
      "memory usage: 1.4+ MB\n"
     ]
    }
   ],
   "source": [
    "car.info()"
   ]
  },
  {
   "cell_type": "code",
   "execution_count": 6,
   "id": "132208c3",
   "metadata": {},
   "outputs": [
    {
     "data": {
      "text/html": [
       "<div>\n",
       "<style scoped>\n",
       "    .dataframe tbody tr th:only-of-type {\n",
       "        vertical-align: middle;\n",
       "    }\n",
       "\n",
       "    .dataframe tbody tr th {\n",
       "        vertical-align: top;\n",
       "    }\n",
       "\n",
       "    .dataframe thead th {\n",
       "        text-align: right;\n",
       "    }\n",
       "</style>\n",
       "<table border=\"1\" class=\"dataframe\">\n",
       "  <thead>\n",
       "    <tr style=\"text-align: right;\">\n",
       "      <th></th>\n",
       "      <th>brand</th>\n",
       "      <th>model</th>\n",
       "      <th>vehicle_age</th>\n",
       "      <th>km_driven</th>\n",
       "      <th>fuel_type</th>\n",
       "      <th>transmission_type</th>\n",
       "      <th>mileage</th>\n",
       "      <th>engine</th>\n",
       "      <th>max_power</th>\n",
       "      <th>seats</th>\n",
       "      <th>Owner_type</th>\n",
       "      <th>selling_price</th>\n",
       "    </tr>\n",
       "  </thead>\n",
       "  <tbody>\n",
       "    <tr>\n",
       "      <th>12402</th>\n",
       "      <td>Maruti</td>\n",
       "      <td>Swift</td>\n",
       "      <td>12</td>\n",
       "      <td>54000</td>\n",
       "      <td>Petrol</td>\n",
       "      <td>Manual</td>\n",
       "      <td>16.1</td>\n",
       "      <td>1298</td>\n",
       "      <td>88.2</td>\n",
       "      <td>5</td>\n",
       "      <td>1</td>\n",
       "      <td>360000</td>\n",
       "    </tr>\n",
       "  </tbody>\n",
       "</table>\n",
       "</div>"
      ],
      "text/plain": [
       "        brand  model  vehicle_age  km_driven fuel_type transmission_type  \\\n",
       "12402  Maruti  Swift           12      54000    Petrol            Manual   \n",
       "\n",
       "       mileage  engine  max_power  seats  Owner_type  selling_price  \n",
       "12402     16.1    1298       88.2      5           1         360000  "
      ]
     },
     "execution_count": 6,
     "metadata": {},
     "output_type": "execute_result"
    }
   ],
   "source": [
    "##remove unwanted columns\n",
    "car.drop(['Unnamed: 0','car_name','min_cost_price','max_cost_price','seller_type'],axis='columns',inplace=True)\n",
    "car.sample()"
   ]
  },
  {
   "cell_type": "code",
   "execution_count": 8,
   "id": "547ea130",
   "metadata": {},
   "outputs": [],
   "source": [
    "car1=car.copy()\n",
    "car1=car1.drop_duplicates(['brand','model','vehicle_age','km_driven','fuel_type','transmission_type','mileage','engine','max_power','seats','Owner_type','selling_price'])"
   ]
  },
  {
   "cell_type": "code",
   "execution_count": 9,
   "id": "63464386",
   "metadata": {},
   "outputs": [
    {
     "data": {
      "text/plain": [
       "(15331, 12)"
      ]
     },
     "execution_count": 9,
     "metadata": {},
     "output_type": "execute_result"
    }
   ],
   "source": [
    "car1.shape"
   ]
  },
  {
   "cell_type": "code",
   "execution_count": 10,
   "id": "41b9c90e",
   "metadata": {
    "scrolled": true
   },
   "outputs": [
    {
     "data": {
      "text/plain": [
       "<AxesSubplot:xlabel='km_driven', ylabel='Count'>"
      ]
     },
     "execution_count": 10,
     "metadata": {},
     "output_type": "execute_result"
    },
    {
     "data": {
      "image/png": "[encoded data removed]",
      "text/plain": [
       "<Figure size 432x288 with 1 Axes>"
      ]
     },
     "metadata": {
      "needs_background": "light"
     },
     "output_type": "display_data"
    }
   ],
   "source": [
    "sns.histplot(data=car1,x='km_driven')"
   ]
  },
  {
   "cell_type": "code",
   "execution_count": 11,
   "id": "d55a0add",
   "metadata": {},
   "outputs": [],
   "source": [
    "#remove outliears\n",
    "cols= ['km_driven' , 'mileage' , 'engine' , 'max_power','selling_price']"
   ]
  },
  {
   "cell_type": "code",
   "execution_count": 12,
   "id": "1d9ceaa8",
   "metadata": {},
   "outputs": [],
   "source": [
    "car2 = car1.copy()\n",
    "from datasist.structdata import detect_outliers \n",
    "\n",
    "outliears = detect_outliers(car2[cols],0,car2[cols].columns)\n",
    "car2.drop(outliears,inplace=True)\n"
   ]
  },
  {
   "cell_type": "code",
   "execution_count": 15,
   "id": "a74058fb",
   "metadata": {},
   "outputs": [
    {
     "data": {
      "text/html": [
       "<div>\n",
       "<style scoped>\n",
       "    .dataframe tbody tr th:only-of-type {\n",
       "        vertical-align: middle;\n",
       "    }\n",
       "\n",
       "    .dataframe tbody tr th {\n",
       "        vertical-align: top;\n",
       "    }\n",
       "\n",
       "    .dataframe thead th {\n",
       "        text-align: right;\n",
       "    }\n",
       "</style>\n",
       "<table border=\"1\" class=\"dataframe\">\n",
       "  <thead>\n",
       "    <tr style=\"text-align: right;\">\n",
       "      <th></th>\n",
       "      <th>brand</th>\n",
       "      <th>model</th>\n",
       "      <th>vehicle_age</th>\n",
       "      <th>km_driven</th>\n",
       "      <th>fuel_type</th>\n",
       "      <th>transmission_type</th>\n",
       "      <th>mileage</th>\n",
       "      <th>engine</th>\n",
       "      <th>max_power</th>\n",
       "      <th>seats</th>\n",
       "      <th>Owner_type</th>\n",
       "      <th>selling_price</th>\n",
       "    </tr>\n",
       "  </thead>\n",
       "  <tbody>\n",
       "    <tr>\n",
       "      <th>5547</th>\n",
       "      <td>Maruti</td>\n",
       "      <td>Vitara</td>\n",
       "      <td>4</td>\n",
       "      <td>29000</td>\n",
       "      <td>Diesel</td>\n",
       "      <td>Manual</td>\n",
       "      <td>24.3</td>\n",
       "      <td>1248</td>\n",
       "      <td>88.5</td>\n",
       "      <td>5</td>\n",
       "      <td>2</td>\n",
       "      <td>985000</td>\n",
       "    </tr>\n",
       "  </tbody>\n",
       "</table>\n",
       "</div>"
      ],
      "text/plain": [
       "       brand   model  vehicle_age  km_driven fuel_type transmission_type  \\\n",
       "5547  Maruti  Vitara            4      29000    Diesel            Manual   \n",
       "\n",
       "      mileage  engine  max_power  seats  Owner_type  selling_price  \n",
       "5547     24.3    1248       88.5      5           2         985000  "
      ]
     },
     "execution_count": 15,
     "metadata": {},
     "output_type": "execute_result"
    }
   ],
   "source": [
    "car2.shape\n",
    "car2.sample()"
   ]
  },
  {
   "cell_type": "code",
   "execution_count": 14,
   "id": "a1bcc8aa",
   "metadata": {},
   "outputs": [],
   "source": [
    "##saving cleaned datadet\n",
    "car2.to_csv(\"autos_preprocessed.csv\")"
   ]
  },
  {
   "cell_type": "code",
   "execution_count": 20,
   "id": "1a71a989",
   "metadata": {},
   "outputs": [
    {
     "name": "stdout",
     "output_type": "stream",
     "text": [
      "brand : LabelEncoder()\n",
      "model : LabelEncoder()\n",
      "fuel_type : LabelEncoder()\n",
      "transmission_type : LabelEncoder()\n",
      "Index(['selling_price', 'vehicle_age', 'km_driven', 'mileage', 'engine',\n",
      "       'max_power', 'seats', 'Owner_type', 'brand_labels', 'model_labels',\n",
      "       'fuel_type_labels', 'transmission_type_labels'],\n",
      "      dtype='object')\n"
     ]
    }
   ],
   "source": [
    "##convert categorical columns into label encoding\n",
    "labels=['brand','model','fuel_type','transmission_type']\n",
    "mapper={}\n",
    "for i in labels:\n",
    "    mapper[i]=LabelEncoder()\n",
    "    mapper[i].fit(car2[i])\n",
    "    tr=mapper[i].transform(car2[i])\n",
    "    np.save(str('classes'+i+'.npy'),mapper[i].classes_)\n",
    "    print(i,\":\",mapper[i])\n",
    "    car2.loc[:,i + '_labels']=pd.Series(tr,index=car2.index)\n",
    "labeled=car2[['selling_price','vehicle_age','km_driven','mileage','engine','max_power','seats','Owner_type']+[x+\"_labels\" for x in labels]]\n",
    "print(labeled.columns)\n",
    "    \n"
   ]
  },
  {
   "cell_type": "code",
   "execution_count": 21,
   "id": "a1d2d849",
   "metadata": {},
   "outputs": [
    {
     "name": "stdout",
     "output_type": "stream",
     "text": [
      "<class 'pandas.core.frame.DataFrame'>\n",
      "Int64Index: 12186 entries, 0 to 15410\n",
      "Data columns (total 12 columns):\n",
      " #   Column                    Non-Null Count  Dtype  \n",
      "---  ------                    --------------  -----  \n",
      " 0   selling_price             12186 non-null  int64  \n",
      " 1   vehicle_age               12186 non-null  int64  \n",
      " 2   km_driven                 12186 non-null  int64  \n",
      " 3   mileage                   12186 non-null  float64\n",
      " 4   engine                    12186 non-null  int64  \n",
      " 5   max_power                 12186 non-null  float64\n",
      " 6   seats                     12186 non-null  int64  \n",
      " 7   Owner_type                12186 non-null  int64  \n",
      " 8   brand_labels              12186 non-null  int32  \n",
      " 9   model_labels              12186 non-null  int32  \n",
      " 10  fuel_type_labels          12186 non-null  int32  \n",
      " 11  transmission_type_labels  12186 non-null  int32  \n",
      "dtypes: float64(2), int32(4), int64(6)\n",
      "memory usage: 1.0 MB\n"
     ]
    }
   ],
   "source": [
    "labeled.info()"
   ]
  },
  {
   "cell_type": "code",
   "execution_count": 22,
   "id": "6ba788b2",
   "metadata": {},
   "outputs": [
    {
     "data": {
      "text/html": [
       "<div>\n",
       "<style scoped>\n",
       "    .dataframe tbody tr th:only-of-type {\n",
       "        vertical-align: middle;\n",
       "    }\n",
       "\n",
       "    .dataframe tbody tr th {\n",
       "        vertical-align: top;\n",
       "    }\n",
       "\n",
       "    .dataframe thead th {\n",
       "        text-align: right;\n",
       "    }\n",
       "</style>\n",
       "<table border=\"1\" class=\"dataframe\">\n",
       "  <thead>\n",
       "    <tr style=\"text-align: right;\">\n",
       "      <th></th>\n",
       "      <th>selling_price</th>\n",
       "      <th>vehicle_age</th>\n",
       "      <th>km_driven</th>\n",
       "      <th>mileage</th>\n",
       "      <th>engine</th>\n",
       "      <th>max_power</th>\n",
       "      <th>seats</th>\n",
       "      <th>Owner_type</th>\n",
       "      <th>brand_labels</th>\n",
       "      <th>model_labels</th>\n",
       "      <th>fuel_type_labels</th>\n",
       "      <th>transmission_type_labels</th>\n",
       "    </tr>\n",
       "  </thead>\n",
       "  <tbody>\n",
       "    <tr>\n",
       "      <th>9875</th>\n",
       "      <td>353000</td>\n",
       "      <td>9</td>\n",
       "      <td>48059</td>\n",
       "      <td>19.3</td>\n",
       "      <td>1248</td>\n",
       "      <td>73.9</td>\n",
       "      <td>5</td>\n",
       "      <td>1</td>\n",
       "      <td>9</td>\n",
       "      <td>55</td>\n",
       "      <td>1</td>\n",
       "      <td>1</td>\n",
       "    </tr>\n",
       "  </tbody>\n",
       "</table>\n",
       "</div>"
      ],
      "text/plain": [
       "      selling_price  vehicle_age  km_driven  mileage  engine  max_power  \\\n",
       "9875         353000            9      48059     19.3    1248       73.9   \n",
       "\n",
       "      seats  Owner_type  brand_labels  model_labels  fuel_type_labels  \\\n",
       "9875      5           1             9            55                 1   \n",
       "\n",
       "      transmission_type_labels  \n",
       "9875                         1  "
      ]
     },
     "execution_count": 22,
     "metadata": {},
     "output_type": "execute_result"
    }
   ],
   "source": [
    "labeled.sample()"
   ]
  },
  {
   "cell_type": "code",
   "execution_count": 23,
   "id": "65f1af84",
   "metadata": {},
   "outputs": [],
   "source": [
    "##split the data set\n",
    "X=labeled.iloc[:,1:].values\n",
    "Y=labeled.iloc[:,0].values\n",
    "Y=Y.reshape(-1,1)"
   ]
  },
  {
   "cell_type": "code",
   "execution_count": 82,
   "id": "424f8d3a",
   "metadata": {},
   "outputs": [],
   "source": [
    "##train the dataset\n",
    "from sklearn.model_selection import cross_val_score,train_test_split\n"
   ]
  },
  {
   "cell_type": "code",
   "execution_count": 87,
   "id": "a31b53ff",
   "metadata": {},
   "outputs": [
    {
     "name": "stdout",
     "output_type": "stream",
     "text": [
      "(9748, 11)\n",
      "(2438, 11)\n",
      "(9748, 1)\n",
      "(2438, 1)\n"
     ]
    }
   ],
   "source": [
    "X_train, X_test, Y_train, Y_test = train_test_split(X,Y, test_size=0.2, random_state=111)\n",
    "print (X_train.shape)\n",
    "print (X_test.shape)\n",
    "print (Y_train.shape)\n",
    "print (Y_test.shape)\n",
    "\n"
   ]
  },
  {
   "cell_type": "code",
   "execution_count": 94,
   "id": "f47dba3b",
   "metadata": {},
   "outputs": [
    {
     "data": {
      "text/plain": [
       "RandomForestRegressor()"
      ]
     },
     "execution_count": 94,
     "metadata": {},
     "output_type": "execute_result"
    }
   ],
   "source": [
    "##model building\n",
    "##random forest\n",
    "from sklearn.ensemble import RandomForestRegressor\n",
    "\n",
    "regressor=RandomForestRegressor()\n",
    "regressor.fit(X_train,np.ravel(Y_train,order='C'))"
   ]
  },
  {
   "cell_type": "code",
   "execution_count": 98,
   "id": "3b58d378",
   "metadata": {},
   "outputs": [
    {
     "data": {
      "text/plain": [
       "0.9820810499930617"
      ]
     },
     "execution_count": 98,
     "metadata": {},
     "output_type": "execute_result"
    }
   ],
   "source": [
    "regressor.score(X_train,Y_train)"
   ]
  },
  {
   "cell_type": "code",
   "execution_count": 99,
   "id": "c3f71dfe",
   "metadata": {},
   "outputs": [
    {
     "data": {
      "text/plain": [
       "0.8839094624158321"
      ]
     },
     "execution_count": 99,
     "metadata": {},
     "output_type": "execute_result"
    }
   ],
   "source": [
    "regressor.score(X_test,Y_test)"
   ]
  },
  {
   "cell_type": "code",
   "execution_count": 102,
   "id": "10b5951a",
   "metadata": {},
   "outputs": [
    {
     "data": {
      "text/plain": [
       "LinearRegression()"
      ]
     },
     "execution_count": 102,
     "metadata": {},
     "output_type": "execute_result"
    }
   ],
   "source": [
    "#linear Regression\n",
    "from sklearn.linear_model import LinearRegression\n",
    "lr=LinearRegression()\n",
    "lr.fit(X_train,Y_train)"
   ]
  },
  {
   "cell_type": "code",
   "execution_count": 103,
   "id": "72c35348",
   "metadata": {},
   "outputs": [
    {
     "data": {
      "text/plain": [
       "0.7406358772484445"
      ]
     },
     "execution_count": 103,
     "metadata": {},
     "output_type": "execute_result"
    }
   ],
   "source": [
    "lr.score(X_train,Y_train)"
   ]
  },
  {
   "cell_type": "code",
   "execution_count": 104,
   "id": "37f215a9",
   "metadata": {},
   "outputs": [
    {
     "data": {
      "text/plain": [
       "0.7486364420198988"
      ]
     },
     "execution_count": 104,
     "metadata": {},
     "output_type": "execute_result"
    }
   ],
   "source": [
    "lr.score(X_test,Y_test)"
   ]
  },
  {
   "cell_type": "code",
   "execution_count": 107,
   "id": "cac14793",
   "metadata": {},
   "outputs": [
    {
     "data": {
      "text/plain": [
       "XGBRegressor(base_score=0.5, booster='gbtree', callbacks=None,\n",
       "             colsample_bylevel=1, colsample_bynode=1, colsample_bytree=1,\n",
       "             early_stopping_rounds=None, enable_categorical=False,\n",
       "             eval_metric=None, gamma=0, gpu_id=-1, grow_policy='depthwise',\n",
       "             importance_type=None, interaction_constraints='',\n",
       "             learning_rate=0.300000012, max_bin=256, max_cat_to_onehot=4,\n",
       "             max_delta_step=0, max_depth=6, max_leaves=0, min_child_weight=1,\n",
       "             missing=nan, monotone_constraints='()', n_estimators=100, n_jobs=0,\n",
       "             num_parallel_tree=1, predictor='auto', random_state=0, reg_alpha=0,\n",
       "             reg_lambda=1, ...)"
      ]
     },
     "execution_count": 107,
     "metadata": {},
     "output_type": "execute_result"
    }
   ],
   "source": [
    "#xgboost \n",
    "from xgboost import XGBRegressor\n",
    "xgbr=XGBRegressor()\n",
    "xgbr.fit(X_train,Y_train)"
   ]
  },
  {
   "cell_type": "code",
   "execution_count": 108,
   "id": "61adfbd3",
   "metadata": {},
   "outputs": [
    {
     "data": {
      "text/plain": [
       "0.951034958541807"
      ]
     },
     "execution_count": 108,
     "metadata": {},
     "output_type": "execute_result"
    }
   ],
   "source": [
    "xgbr.score(X_train,Y_train)"
   ]
  },
  {
   "cell_type": "code",
   "execution_count": 115,
   "id": "48643b97",
   "metadata": {},
   "outputs": [
    {
     "data": {
      "text/plain": [
       "0.8955792472380257"
      ]
     },
     "execution_count": 115,
     "metadata": {},
     "output_type": "execute_result"
    }
   ],
   "source": [
    "xgbr.score(X_test,Y_test)"
   ]
  },
  {
   "cell_type": "code",
   "execution_count": 116,
   "id": "51ad0db8",
   "metadata": {},
   "outputs": [],
   "source": [
    "#saving the model\n",
    "import pickle\n",
    "pickle.dump(xgbr,open(\"boost.pkl\",\"wb\"))"
   ]
  }
 ],
 "metadata": {
  "kernelspec": {
   "display_name": "Python 3 (ipykernel)",
   "language": "python",
   "name": "python3"
  },
  "language_info": {
   "codemirror_mode": {
    "name": "ipython",
    "version": 3
   },
   "file_extension": ".py",
   "mimetype": "text/x-python",
   "name": "python",
   "nbconvert_exporter": "python",
   "pygments_lexer": "ipython3",
   "version": "3.9.12"
  }
 },
 "nbformat": 4,
 "nbformat_minor": 5
}
